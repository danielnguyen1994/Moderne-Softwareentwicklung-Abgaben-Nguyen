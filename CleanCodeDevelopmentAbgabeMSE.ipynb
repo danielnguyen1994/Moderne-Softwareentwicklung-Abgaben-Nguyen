{
 "cells": [
  {
   "cell_type": "markdown",
   "metadata": {},
   "source": [
    "Code vor Cleanen\n",
    "Es handelt sich um ein Tic Tac Toe spiel von mir gecoded in Python"
   ]
  },
  {
   "cell_type": "code",
   "execution_count": null,
   "metadata": {
    "scrolled": true
   },
   "outputs": [
    {
     "name": "stdout",
     "output_type": "stream",
     "text": [
      "|1|2|3|\n",
      "|4|5|6|\n",
      "|7|8|9|\n",
      "Spieler 1 an der Reihe. Waehlen Sie ein Feld von 1 bis 9 aus:\n",
      "1\n",
      "|X| | |\n",
      "| | | |\n",
      "| | | |\n",
      "Spieler 2 an der Reihe. Waehlen Sie ein Feld von 1 bis 9 aus:\n",
      "2\n",
      "|X|O| |\n",
      "| | | |\n",
      "| | | |\n",
      "Spieler 1 an der Reihe. Waehlen Sie ein Feld von 1 bis 9 aus:\n",
      "3\n",
      "|X|O|X|\n",
      "| | | |\n",
      "| | | |\n",
      "Spieler 2 an der Reihe. Waehlen Sie ein Feld von 1 bis 9 aus:\n",
      "4\n",
      "|X|O|X|\n",
      "|O| | |\n",
      "| | | |\n",
      "Spieler 1 an der Reihe. Waehlen Sie ein Feld von 1 bis 9 aus:\n",
      "5\n",
      "|X|O|X|\n",
      "|O|X| |\n",
      "| | | |\n",
      "Spieler 2 an der Reihe. Waehlen Sie ein Feld von 1 bis 9 aus:\n",
      "6\n",
      "|X|O|X|\n",
      "|O|X|O|\n",
      "| | | |\n",
      "Spieler 1 an der Reihe. Waehlen Sie ein Feld von 1 bis 9 aus:\n",
      "7\n",
      "|X|O|X|\n",
      "|O|X|O|\n",
      "|X| | |\n",
      "Gewonnen!\n",
      "Druecken Sie Enter um eine neues Spiel zu starten\n"
     ]
    }
   ],
   "source": [
    "feld = [\" \",\" \",\" \",\" \",\" \",\" \",\" \",\" \",\" \"]\n",
    "spieler = 1\n",
    "\n",
    "#Methode um das Tac Tac Toe Feld auszugeben\n",
    "def ausgeben():\n",
    "    i = 0\n",
    "    while i <= 8:\n",
    "        print (\"|\" + feld[i] + \"|\" + feld[1 + i] + \"|\" + feld[2 + i]+ \"|\")\n",
    "        i += 3\n",
    "#Methode um das Tic Tac Toe Feld zurueckzusetzen nach jeder Runde\n",
    "def feldzuruecksetzen():\n",
    "    i = 0\n",
    "    while i <= 8:\n",
    "        feld[i] = \" \"\n",
    "        i += 1\n",
    "#Methode ein Spieler gewinnt \n",
    "def gewonnen():\n",
    "    print(\"Gewonnen!\")\n",
    "    print(\"Druecken Sie Enter um eine neues Spiel zu starten\")\n",
    "    input()\n",
    "    feldzuruecksetzen()\n",
    "    ausgeben()  \n",
    "#Methode wenn es zu einem unentschieden kommt\n",
    "def unentschieden():  \n",
    "    print(\"Unentschieden!\")\n",
    "    print(\"Druecken Sie Enter um eine neues Spiel zu starten\")\n",
    "    input()\n",
    "    feldzuruecksetzen()\n",
    "    ausgeben()  \n",
    "\n",
    "print (\"|1|2|3|\")\n",
    "print (\"|4|5|6|\")\n",
    "print (\"|7|8|9|\")\n",
    "\n",
    "while True:\n",
    "    print(\"Spieler \" + str(spieler) + \" an der Reihe. Waehlen Sie ein Feld von 1 bis 9 aus:\" )\n",
    "    feldnummer = input()\n",
    "    feldnummer = int(feldnummer)\n",
    "        \n",
    "    if (int(feldnummer) >= 1 and int(feldnummer) <= 9):\n",
    "        if (spieler == 1):\n",
    "            feld[int(feldnummer) - 1] = \"X\"\n",
    "            ausgeben()\n",
    "            spieler = 2\n",
    "            \n",
    "\n",
    "        elif (spieler == 2):\n",
    "            feld[int(feldnummer) - 1] = \"O\"\n",
    "            ausgeben()\n",
    "            spieler = 1\n",
    "    else:\n",
    "        print(\"Ungueltige Zahl geben sie eine Zahl von 1 bis 9 ein\")\n",
    "    #if-Statements fuer 3 in einer Reihe\n",
    "    if ((feld[0] == feld[1] == feld[2]) and feld[0] !=  \" \"):\n",
    "       gewonnen()\n",
    "    elif ((feld[3] == feld[4] == feld[5]) and feld[3] !=  \" \"):\n",
    "       gewonnen()\n",
    "    elif ((feld[6] == feld[7] == feld[8]) and feld[6] !=  \" \"): \n",
    "       gewonnen()\n",
    "    elif ((feld[0] == feld[4] == feld[8]) and feld[0] !=  \" \"):\n",
    "       gewonnen()\n",
    "    elif ((feld[6] == feld[4] == feld[2]) and feld[6] !=  \" \"):  \n",
    "       gewonnen()\n",
    "    elif ((feld[0] == feld[3] == feld[6]) and feld[0] !=  \" \"):\n",
    "       gewonnen()\n",
    "    elif ((feld[1] == feld[4] == feld[7]) and feld[1] !=  \" \"):  \n",
    "       gewonnen()\n",
    "    elif ((feld[2] == feld[5] == feld[8]) and feld[2] !=  \" \"):\n",
    "       gewonnen()\n",
    "    #if-Statement wenn kein Spieler gewinnt\n",
    "    elif (feld[0] != \" \" and feld[0] != \" \" and feld[1] != \" \" and feld[2] != \" \" and feld[3] != \" \" and feld[4] != \" \" and feld[5] != \" \" and feld[6] != \" \" and feld[7] != \" \"  and feld[8] != \" \"):\n",
    "       unentschieden()    "
   ]
  },
  {
   "cell_type": "markdown",
   "metadata": {},
   "source": [
    "Korrekte Exception Handling"
   ]
  },
  {
   "cell_type": "code",
   "execution_count": null,
   "metadata": {},
   "outputs": [],
   "source": [
    " feldnummer = int(feldnummer)"
   ]
  },
  {
   "cell_type": "code",
   "execution_count": null,
   "metadata": {},
   "outputs": [],
   "source": [
    " try: \n",
    "        feldnummer = int(feldnummer)\n",
    "    except ValueError:\n",
    "        feldnummer = 0"
   ]
  },
  {
   "cell_type": "markdown",
   "metadata": {},
   "source": [
    "Nutzlose Kommentare löschen"
   ]
  },
  {
   "cell_type": "code",
   "execution_count": null,
   "metadata": {},
   "outputs": [],
   "source": [
    "#Methode um das Tac Tac Toe Feld auszugeben\n",
    "def ausgeben():\n",
    "    print (\"|\" + feld[0] + \"|\" + feld[1] + \"|\" + feld[2]+ \"|\")\n",
    "    print (\"|\" + feld[3] + \"|\" + feld[4] + \"|\" + feld[5]+ \"|\")\n",
    "    print (\"|\" + feld[6] + \"|\" + feld[7] + \"|\" + feld[8]+ \"|\")\n",
    "#Methode um das Tic Tac Toe Feld zurueckzusetzen nach jeder Runde\n",
    "def feldzuruecksetzen():\n",
    "    i = 0\n",
    "    while i <= 8:\n",
    "        feld[i] = \" \"\n",
    "        i += 1\n",
    "#Methode ein Spieler gewinnt \n",
    "def gewonnen():\n",
    "    print(\"Gewonnen!\")\n",
    "    print(\"Druecken Sie Enter um eine neues Spiel zu starten\")\n",
    "    input()\n",
    "    feldzuruecksetzen()\n",
    "    ausgeben()  \n",
    "#Methode wenn es zu einem unentschieden kommt\n",
    "def unentschieden():  \n",
    "    print(\"Unentschieden!\")\n",
    "    print(\"Druecken Sie Enter um eine neues Spiel zu starten\")\n",
    "    input()\n",
    "    feldzuruecksetzen()\n",
    "    ausgeben()  \n"
   ]
  },
  {
   "cell_type": "markdown",
   "metadata": {},
   "source": [
    "Präzise Benennung und Konventionen der Sprache kennen"
   ]
  },
  {
   "cell_type": "code",
   "execution_count": null,
   "metadata": {},
   "outputs": [],
   "source": [
    "def ausgeben():  "
   ]
  },
  {
   "cell_type": "code",
   "execution_count": null,
   "metadata": {},
   "outputs": [],
   "source": [
    "def feld_ausgeben(): "
   ]
  },
  {
   "cell_type": "markdown",
   "metadata": {},
   "source": [
    "Magic numbers vermeiden"
   ]
  },
  {
   "cell_type": "code",
   "execution_count": null,
   "metadata": {},
   "outputs": [],
   "source": [
    "def feldzuruecksetzen():\n",
    "    i = 0\n",
    "    while i <= 8:\n",
    "        feld[i] = \" \"\n",
    "        i += 1"
   ]
  },
  {
   "cell_type": "code",
   "execution_count": null,
   "metadata": {},
   "outputs": [],
   "source": [
    "def feldzuruecksetzen():\n",
    "    i = 0\n",
    "    while i <= feldanzahl:\n",
    "        feld[i] = \" \"\n",
    "        i += 1"
   ]
  },
  {
   "cell_type": "markdown",
   "metadata": {},
   "source": [
    "Code so einfach wie möglich schreiben (KISS)"
   ]
  },
  {
   "cell_type": "code",
   "execution_count": null,
   "metadata": {},
   "outputs": [],
   "source": [
    "def feld_ausgeben():\n",
    "    i = 0\n",
    "    while i <= 8\n",
    "        print (\"|\" + feld[i] + \"|\" + feld[1 + i] + \"|\" + feld[2 + i]+ \"|\")\n",
    "        i += 3"
   ]
  },
  {
   "cell_type": "code",
   "execution_count": null,
   "metadata": {},
   "outputs": [],
   "source": [
    "def feld_ausgeben():    \n",
    "    print (\"|\" + feld[0] + \"|\" + feld[1] + \"|\" + feld[2]+ \"|\")\n",
    "    print (\"|\" + feld[3] + \"|\" + feld[4] + \"|\" + feld[5]+ \"|\")\n",
    "    print (\"|\" + feld[6] + \"|\" + feld[7] + \"|\" + feld[8]+ \"|\")"
   ]
  },
  {
   "cell_type": "markdown",
   "metadata": {},
   "source": [
    "Gecleanter Code"
   ]
  },
  {
   "cell_type": "code",
   "execution_count": null,
   "metadata": {},
   "outputs": [],
   "source": [
    "feld = [\" \",\" \",\" \",\" \",\" \",\" \",\" \",\" \",\" \"]\n",
    "spieler = 1\n",
    "\n",
    "def feld_ausgeben():\n",
    "    print (\"|\" + feld[0] + \"|\" + feld[1] + \"|\" + feld[2]+ \"|\")\n",
    "    print (\"|\" + feld[3] + \"|\" + feld[4] + \"|\" + feld[5]+ \"|\")\n",
    "    print (\"|\" + feld[6] + \"|\" + feld[7] + \"|\" + feld[8]+ \"|\")\n",
    "\n",
    "def feld_zuruecksetzen():\n",
    "    i = 0\n",
    "    while i <= 8:\n",
    "        feld[i] = \" \"\n",
    "        i += 1\n",
    "\n",
    "def spieler_gewonnen():\n",
    "    print(\"Gewonnen!\")\n",
    "    print(\"Druecken Sie Enter um eine neues Spiel zu starten\")\n",
    "    input()\n",
    "    feld_zuruecksetzen()\n",
    "    feld_ausgeben()  \n",
    "\n",
    "def spieler_unentschieden():  \n",
    "    print(\"Unentschieden!\")\n",
    "    print(\"Druecken Sie Enter um eine neues Spiel zu starten\")\n",
    "    input()\n",
    "    feld_zuruecksetzen()\n",
    "    feld_ausgeben()  \n",
    "\n",
    "def spiel_auswerten():    \n",
    "    if ((feld[0] == feld[1] == feld[2]) and feld[0] !=  \" \"):\n",
    "       spieler_gewonnen()\n",
    "    elif ((feld[3] == feld[4] == feld[5]) and feld[3] !=  \" \"):\n",
    "       spieler_gewonnen()\n",
    "    elif ((feld[6] == feld[7] == feld[8]) and feld[6] !=  \" \"): \n",
    "       spieler_gewonnen()\n",
    "    elif ((feld[0] == feld[4] == feld[8]) and feld[0] !=  \" \"):\n",
    "       spieler_gewonnen()\n",
    "    elif ((feld[6] == feld[4] == feld[2]) and feld[6] !=  \" \"):  \n",
    "       spieler_gewonnen()\n",
    "    elif ((feld[0] == feld[3] == feld[6]) and feld[0] !=  \" \"):\n",
    "       spieler_gewonnen()\n",
    "    elif ((feld[1] == feld[4] == feld[7]) and feld[1] !=  \" \"):  \n",
    "       spieler_gewonnen()\n",
    "    elif ((feld[2] == feld[5] == feld[8]) and feld[2] !=  \" \"):\n",
    "       spieler_gewonnen()  \n",
    "    elif (feld[0] != \" \" and feld[0] != \" \" and feld[1] != \" \" and feld[2] != \" \" and feld[3] != \" \" and feld[4] != \" \" and feld[5] != \" \" and feld[6] != \" \" and feld[7] != \" \"  and feld[8] != \" \"):\n",
    "       spieler_unentschieden()    \n",
    "\n",
    "print (\"|1|2|3|\")\n",
    "print (\"|4|5|6|\")\n",
    "print (\"|7|8|9|\")   \n",
    "\n",
    "while True:\n",
    "    print(\"Spieler \" + str(spieler) + \" an der Reihe. Waehlen Sie ein Feld von 1 bis 9 aus:\" )\n",
    "    feldnummer = input()\n",
    "    try: \n",
    "        feldnummer = int(feldnummer)\n",
    "    except ValueError:\n",
    "        feldnummer = 0\n",
    "        \n",
    "    if (int(feldnummer) >= 1 and int(feldnummer) <= 9):\n",
    "        if (spieler == 1):\n",
    "            feld[int(feldnummer) - 1] = \"X\"\n",
    "            feld_ausgeben()\n",
    "            spieler = 2            \n",
    "\n",
    "        elif (spieler == 2):\n",
    "            feld[int(feldnummer) - 1] = \"O\"\n",
    "            feld_ausgeben()\n",
    "            spieler = 1\n",
    "    else:\n",
    "        print(\"Ungueltige Zahl geben sie eine Zahl von 1 bis 9 ein\")\n",
    "   \n",
    "       "
   ]
  }
 ],
 "metadata": {
  "kernelspec": {
   "display_name": "Python 3",
   "language": "python",
   "name": "python3"
  },
  "language_info": {
   "codemirror_mode": {
    "name": "ipython",
    "version": 3
   },
   "file_extension": ".py",
   "mimetype": "text/x-python",
   "name": "python",
   "nbconvert_exporter": "python",
   "pygments_lexer": "ipython3",
   "version": "3.8.5"
  }
 },
 "nbformat": 4,
 "nbformat_minor": 4
}
